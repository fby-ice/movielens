{
 "cells": [
  {
   "cell_type": "markdown",
   "metadata": {},
   "source": [
    "# MovieLens\n",
    "\n",
    "Evaluating k-nearest neighbors and singular value decomposition techniques for collaborative filtering recommender systems\n",
    "\n",
    "#### Variables\n",
    "\n",
    "*int* `userId`: the integer ID of the anonymized user  \n",
    "*int* `movieId`: the integer ID of the movie  \n",
    "*int* `rating`: integer rating ranging from 1 to 5 given by the user to the movie  \n",
    "*int* `timestamp`: the number of seconds had elapsed since the Unix epoch until the user rated the movie  "
   ]
  },
  {
   "cell_type": "markdown",
   "metadata": {},
   "source": [
    "<br>\n",
    "\n",
    "### Setting up\n",
    "\n",
    "Install the required libraries."
   ]
  },
  {
   "cell_type": "code",
   "execution_count": null,
   "metadata": {},
   "outputs": [],
   "source": [
    "%pip install -r requirements.txt"
   ]
  },
  {
   "cell_type": "markdown",
   "metadata": {},
   "source": [
    "Import the dependencies to be used."
   ]
  },
  {
   "cell_type": "code",
   "execution_count": 3,
   "metadata": {},
   "outputs": [],
   "source": [
    "import numpy as np\n",
    "\n",
    "from surprise import Dataset\n",
    "from surprise import KNNBasic\n",
    "from surprise import SVDpp\n",
    "from surprise.model_selection import cross_validate\n",
    "from surprise.model_selection import GridSearchCV"
   ]
  },
  {
   "cell_type": "markdown",
   "metadata": {},
   "source": [
    "For reproducible results, set the seed for the pseudorandom number generator."
   ]
  },
  {
   "cell_type": "code",
   "execution_count": 4,
   "metadata": {},
   "outputs": [],
   "source": [
    "np.random.seed(0)"
   ]
  },
  {
   "cell_type": "markdown",
   "metadata": {},
   "source": [
    "<br>\n",
    "\n",
    "### Loading the dataset\n",
    "\n",
    "Use the built-in MovieLens 100K dataset from the `surprise` library."
   ]
  },
  {
   "cell_type": "code",
   "execution_count": 11,
   "metadata": {},
   "outputs": [],
   "source": [
    "data = Dataset.load_builtin('ml-100k')"
   ]
  },
  {
   "cell_type": "markdown",
   "metadata": {},
   "source": [
    "<br>\n",
    "\n",
    "### Implementing the benchmark model\n",
    "\n",
    "Implement a user-based neighborhood method with cosine as its similarity measure and run a 3-fold cross-validation on the model."
   ]
  },
  {
   "cell_type": "code",
   "execution_count": 13,
   "metadata": {},
   "outputs": [
    {
     "name": "stdout",
     "output_type": "stream",
     "text": [
      "Evaluating RMSE of algorithm KNNBasic on 3 split(s).\n",
      "\n",
      "                  Fold 1  Fold 2  Fold 3  Mean    Std     \n",
      "RMSE (testset)    1.0174  1.0276  1.0208  1.0219  0.0042  \n",
      "Fit time          2.29    1.27    1.29    1.61    0.47    \n",
      "Test time         5.59    4.88    4.56    5.01    0.43    \n"
     ]
    }
   ],
   "source": [
    "algo = KNNBasic(sim_options={'name': 'cosine'}, verbose=False)\n",
    "cross_validate(algo, data, measures=['rmse'], cv=3, verbose=True)"
   ]
  },
  {
   "cell_type": "markdown",
   "metadata": {},
   "source": [
    "<br>\n",
    "\n",
    "### Implementing SVD++\n",
    "\n",
    "Perform grid search with 3-fold cross-validation to find the optimal parameter combination for the SVD++ model."
   ]
  },
  {
   "cell_type": "code",
   "execution_count": null,
   "metadata": {},
   "outputs": [],
   "source": [
    "param_grid = {\n",
    "    'n_factors': [10, 15],\n",
    "    'n_epochs': [10, 15],\n",
    "    'lr_all': [0.005, 0.0075],\n",
    "    'reg_all': [0.02, 0.03],\n",
    "    'verbose': [True]\n",
    "}\n",
    "gs = GridSearchCV(SVDpp, param_grid, measures=['rmse'], cv=3, joblib_verbose=2)\n",
    "gs.fit(data)"
   ]
  },
  {
   "cell_type": "markdown",
   "metadata": {},
   "source": [
    "This is the optimal parameter combination selected by the grid search."
   ]
  },
  {
   "cell_type": "code",
   "execution_count": 20,
   "metadata": {},
   "outputs": [
    {
     "name": "stdout",
     "output_type": "stream",
     "text": [
      "Best SVD++ model: {'n_factors': 10, 'n_epochs': 15, 'lr_all': 0.0075, 'reg_all': 0.02, 'verbose': True}\n",
      "RMSE: 0.9266467179657721\n",
      "\n"
     ]
    }
   ],
   "source": [
    "print(\"Best SVD++ model:\", gs.best_params['rmse'])\n",
    "print(\"RMSE:\", gs.best_score['rmse'], end=\"\\n\\n\")"
   ]
  },
  {
   "cell_type": "markdown",
   "metadata": {},
   "source": [
    "<br>\n",
    "\n",
    "### Results\n",
    "\n",
    "The SVD++ algorithm with 0.9266 RMSE outperforms the benchmark k-NN model with 1.0219 by 9.33%."
   ]
  },
  {
   "cell_type": "markdown",
   "metadata": {},
   "source": [
    "<br>\n",
    "\n",
    "- - -\n",
    "\n",
    "#### Code authorship\n",
    "\n",
    "2022 © Jessan Rendell G. Belenzo\n",
    "\n",
    "<br>\n",
    "\n",
    "#### Terms of use\n",
    "\n",
    "Licensed under the GNU General Public License v3.0. See [LICENSE](https://github.com/jessanrendell/movielens/blob/main/LICENSE).\n",
    "\n",
    "<br>\n",
    "\n",
    "## Acknowledgments\n",
    "\n",
    "Hug, Nicolas. \"[Surprise: A Python library for recommender systems.](https://surpriselib.com/)\" Journal of Open Source Software 5.52 (2020): 2174.\n",
    "\n",
    "Harper, F. Maxwell, and Joseph A. Konstan. \"[The movielens datasets: History and context.](https://grouplens.org/datasets/movielens/100k/)\" Acm transactions on interactive intelligent systems (tiis) 5.4 (2015): 1-19.\n",
    "\n",
    "Ricci, Francesco, Lior Rokach, and Bracha Shapira. \"[Recommender systems handbook.](https://link.springer.com/chapter/10.1007/978-0-387-85820-3_1)\" Springer, Boston, MA, 2011. 1-35.\n",
    "\n",
    "Koren, Yehuda. \"[Factorization meets the neighborhood: a multifaceted collaborative filtering model.](https://dl.acm.org/doi/abs/10.1145/1401890.1401944)\" Proceedings of the 14th ACM SIGKDD international conference on Knowledge discovery and data mining. 2008."
   ]
  }
 ],
 "metadata": {
  "interpreter": {
   "hash": "f098251a1466557b2b6172190c4d1856b85e5ae0dcef6a8a6cf06ef5a3b338f4"
  },
  "kernelspec": {
   "display_name": "Python 3.10.1 64-bit ('movielens': venv)",
   "language": "python",
   "name": "python3"
  },
  "language_info": {
   "codemirror_mode": {
    "name": "ipython",
    "version": 3
   },
   "file_extension": ".py",
   "mimetype": "text/x-python",
   "name": "python",
   "nbconvert_exporter": "python",
   "pygments_lexer": "ipython3",
   "version": "3.10.1"
  },
  "orig_nbformat": 4
 },
 "nbformat": 4,
 "nbformat_minor": 2
}
